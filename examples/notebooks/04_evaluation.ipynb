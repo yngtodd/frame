{
 "cells": [
  {
   "cell_type": "markdown",
   "metadata": {},
   "source": [
    "# Evaluating our Fine Tuned T5 Model\n",
    "\n",
    "After having trained our Seq2Seq summarization model, let's use `transformers` pipeline to evaluate the model."
   ]
  },
  {
   "cell_type": "code",
   "execution_count": 8,
   "metadata": {},
   "outputs": [],
   "source": [
    "from transformers import pipeline\n",
    "from nltk.corpus.reader import framenet"
   ]
  },
  {
   "cell_type": "code",
   "execution_count": 11,
   "metadata": {},
   "outputs": [],
   "source": [
    "datapath = \"/home/ygx/dat/fndata-1.7\""
   ]
  },
  {
   "cell_type": "code",
   "execution_count": 13,
   "metadata": {},
   "outputs": [],
   "source": [
    "fn = framenet.FramenetCorpusReader(datapath, fileids=None)\n",
    "sentences = fn.sents()"
   ]
  },
  {
   "cell_type": "code",
   "execution_count": 2,
   "metadata": {},
   "outputs": [
    {
     "name": "stdout",
     "output_type": "stream",
     "text": [
      "checkpoint-6000  checkpoint-6500  checkpoint-7000\r\n"
     ]
    }
   ],
   "source": [
    "!ls ../results/summarization/"
   ]
  },
  {
   "cell_type": "code",
   "execution_count": 5,
   "metadata": {},
   "outputs": [],
   "source": [
    "checkpoint = \"../results/summarization/checkpoint-7000\""
   ]
  },
  {
   "cell_type": "code",
   "execution_count": 6,
   "metadata": {},
   "outputs": [],
   "source": [
    "summarizer = pipeline(\n",
    "    \"summarization\", model=checkpoint, tokenizer=checkpoint\n",
    ")"
   ]
  },
  {
   "cell_type": "code",
   "execution_count": 19,
   "metadata": {},
   "outputs": [],
   "source": [
    "sample_sentences = [sentences[idx].text for idx in range(10, 20)]\n",
    "sample_frames = [sentences[idx].frame.name for idx in range(10, 20)]"
   ]
  },
  {
   "cell_type": "code",
   "execution_count": 20,
   "metadata": {},
   "outputs": [
    {
     "name": "stderr",
     "output_type": "stream",
     "text": [
      "Your max_length is set to 20, but you input_length is only 13. You might consider decreasing max_length manually, e.g. summarizer('...', max_length=50)\n"
     ]
    }
   ],
   "source": [
    "sample_summaries = []\n",
    "for sample in sample_sentences:\n",
    "    summary = summarizer(sample, min_length=5, max_length=20)\n",
    "    sample_summaries.append(summary)"
   ]
  },
  {
   "cell_type": "code",
   "execution_count": 21,
   "metadata": {},
   "outputs": [
    {
     "data": {
      "text/plain": [
       "[[{'summary_text': 'This frame covers words for Body_part(s) (BP) belonging to a Pos'}],\n",
       " [{'summary_text': 'The adjectives and nouns in this frame describe an Experiencer who is feeling or experiencing'}],\n",
       " [{'summary_text': 'The adjectives and nouns in this frame describe an Experiencer who is feeling or experiencing'}],\n",
       " [{'summary_text': 'This frame covers words for Body_part(s) (BP) belonging to a Pos'}],\n",
       " [{'summary_text': 'This frame covers words for Body_part(s) (BP) belonging to a Pos'}],\n",
       " [{'summary_text': 'This frame covers words for Body_part(s) (BP) belonging to a Pos'}],\n",
       " [{'summary_text': 'The adjectives and nouns in this frame describe an Experiencer who is feeling or experiencing'}],\n",
       " [{'summary_text': 'The adjectives and nouns in this frame describe an Experiencer who is feeling or experiencing'}],\n",
       " [{'summary_text': 'This frame covers entities which are prototypically conceived of and created to fulfill the function of'}],\n",
       " [{'summary_text': 'The adjectives and nouns in this frame describe an Experiencer who is feeling or experiencing'}]]"
      ]
     },
     "execution_count": 21,
     "metadata": {},
     "output_type": "execute_result"
    }
   ],
   "source": [
    "sample_summaries"
   ]
  },
  {
   "cell_type": "code",
   "execution_count": 22,
   "metadata": {},
   "outputs": [
    {
     "data": {
      "text/plain": [
       "['Abandonment',\n",
       " 'Abandonment',\n",
       " 'Abandonment',\n",
       " 'Abandonment',\n",
       " 'Abandonment',\n",
       " 'Abandonment',\n",
       " 'Abandonment',\n",
       " 'Abandonment',\n",
       " 'Abandonment',\n",
       " 'Abandonment']"
      ]
     },
     "execution_count": 22,
     "metadata": {},
     "output_type": "execute_result"
    }
   ],
   "source": [
    "sample_frames"
   ]
  },
  {
   "cell_type": "code",
   "execution_count": null,
   "metadata": {},
   "outputs": [],
   "source": []
  }
 ],
 "metadata": {
  "kernelspec": {
   "display_name": "Python 3",
   "language": "python",
   "name": "python3"
  },
  "language_info": {
   "codemirror_mode": {
    "name": "ipython",
    "version": 3
   },
   "file_extension": ".py",
   "mimetype": "text/x-python",
   "name": "python",
   "nbconvert_exporter": "python",
   "pygments_lexer": "ipython3",
   "version": "3.7.0"
  }
 },
 "nbformat": 4,
 "nbformat_minor": 2
}
