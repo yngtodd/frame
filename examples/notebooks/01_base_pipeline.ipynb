{
 "cells": [
  {
   "cell_type": "markdown",
   "metadata": {},
   "source": [
    "# Baseline HuggingFace Pipeline\n",
    "\n",
    "As an initial baseline, we should see how well the text summarization Seq2Seq models in HuggingFace are capable of. Let's load sentences from Framenet and use a pre-trained `t5` model for summarization. We will then compare the model's summarization with the frame definitions associated with that sentence. "
   ]
  },
  {
   "cell_type": "code",
   "execution_count": 1,
   "metadata": {},
   "outputs": [],
   "source": [
    "import nltk\n",
    "\n",
    "from transformers import pipeline\n",
    "from nltk.corpus.reader import framenet"
   ]
  },
  {
   "cell_type": "code",
   "execution_count": 2,
   "metadata": {},
   "outputs": [],
   "source": [
    "datapath = \"/Users/ygx/dat/fndata-1.7/\""
   ]
  },
  {
   "cell_type": "code",
   "execution_count": 3,
   "metadata": {},
   "outputs": [],
   "source": [
    "fn = framenet.FramenetCorpusReader(datapath, fileids=None)"
   ]
  },
  {
   "cell_type": "markdown",
   "metadata": {},
   "source": [
    "### Framenet Sentences\n",
    "\n",
    "Framenet contains sentences along with their associated frames. These sentence lengths would be on the order of the length of search queuries a user would make on a natural language search engine. We can use this to compare our summarization models. "
   ]
  },
  {
   "cell_type": "code",
   "execution_count": 4,
   "metadata": {},
   "outputs": [],
   "source": [
    "sentences = fn.sents()"
   ]
  },
  {
   "cell_type": "code",
   "execution_count": 5,
   "metadata": {},
   "outputs": [
    {
     "name": "stdout",
     "output_type": "stream",
     "text": [
      "\n",
      "Sentence 0:\n",
      "\n",
      "\tThe bank has abandoned all plans to finance roads or logging in Cameroon 's forests , in keeping with its ` stringent policy to protect the rights of indigenous people . \"\n",
      "\n",
      "Frame:\n",
      "\n",
      "\tAbandonment\n",
      "\n",
      "Frame definition:\n",
      "\n",
      "\tAn Agent leaves behind a Theme effectively rendering it no longer within their control or of the normal security as one's property.   'Carolyn abandoned her car and jumped on a red double decker bus.'  'Perhaps he left the key in the ignition'  'Abandonment of a child is considered to be a serious crime in many jurisdictions.'  There are also metaphorically used examples:  'She left her old ways behind .'\n"
     ]
    }
   ],
   "source": [
    "# Sample sentence and associated frame\n",
    "for idx, sent in enumerate(sentences):\n",
    "    print(f\"\\nSentence {idx}:\\n\\n\\t{sent.text}\")\n",
    "    print(f\"\\nFrame:\\n\\n\\t{sent.frame.name}\")\n",
    "    print(f\"\\nFrame definition:\\n\\n\\t{sent.frame.definition}\")\n",
    "    if idx == 0:\n",
    "        break"
   ]
  },
  {
   "cell_type": "code",
   "execution_count": 6,
   "metadata": {},
   "outputs": [],
   "source": [
    "# Simplest and most opaque interface for summarization\n",
    "summarizer = pipeline(\"summarization\", model=\"t5-base\", tokenizer=\"t5-base\")"
   ]
  },
  {
   "cell_type": "code",
   "execution_count": 7,
   "metadata": {},
   "outputs": [],
   "source": [
    "sample_sentences = [sentences[idx].text for idx in range(10)]\n",
    "sample_frames = [sentences[idx].frame.name for idx in range(10)]"
   ]
  },
  {
   "cell_type": "code",
   "execution_count": 8,
   "metadata": {},
   "outputs": [],
   "source": [
    "sample_summaries = []\n",
    "for sample in sample_sentences:\n",
    "    summary = summarizer(sample, min_length=5, max_length=20)\n",
    "    sample_summaries.append(summary)"
   ]
  },
  {
   "cell_type": "code",
   "execution_count": 9,
   "metadata": {},
   "outputs": [
    {
     "data": {
      "text/plain": [
       "[[{'summary_text': \"bank has abandoned all plans to finance roads or logging in Cameroon's forests\"}],\n",
       " [{'summary_text': 'Stevenson and a friend took a Nova car from North Skelton and abandoned it'}],\n",
       " [{'summary_text': 'she had seen no reason to abandon it when she came to Medewich two years ago'}],\n",
       " [{'summary_text': 'as a result of other priorities following the fall of France in June 1940 , the project'}],\n",
       " [{'summary_text': 'Leeds Education Authority has abandoned plans for  drastic \" cuts in travel subsidies for some Catholic students'}],\n",
       " [{'summary_text': 'he abandoned plans of working in missionary field and offered his services to the Netherlands Indies'}],\n",
       " [{'summary_text': 'the council later abandoned its plans to widen the highway . the reversion passed to'}],\n",
       " [{'summary_text': 'Um Al-Farajh was finally abandoned by the Palestinian Arabs in 1948 .'}],\n",
       " [{'summary_text': 'Lola is waiting loyally , if not faithfully, for the lover ,'}],\n",
       " [{'summary_text': 'pistol found in a garden at ava parade , off Ormeau Road '}]]"
      ]
     },
     "execution_count": 9,
     "metadata": {},
     "output_type": "execute_result"
    }
   ],
   "source": [
    "sample_summaries"
   ]
  },
  {
   "cell_type": "code",
   "execution_count": 10,
   "metadata": {},
   "outputs": [
    {
     "data": {
      "text/plain": [
       "['Abandonment',\n",
       " 'Abandonment',\n",
       " 'Abandonment',\n",
       " 'Abandonment',\n",
       " 'Abandonment',\n",
       " 'Abandonment',\n",
       " 'Abandonment',\n",
       " 'Abandonment',\n",
       " 'Abandonment',\n",
       " 'Abandonment']"
      ]
     },
     "execution_count": 10,
     "metadata": {},
     "output_type": "execute_result"
    }
   ],
   "source": [
    "sample_frames"
   ]
  },
  {
   "cell_type": "code",
   "execution_count": null,
   "metadata": {},
   "outputs": [],
   "source": []
  }
 ],
 "metadata": {
  "kernelspec": {
   "display_name": "Python 3",
   "language": "python",
   "name": "python3"
  },
  "language_info": {
   "codemirror_mode": {
    "name": "ipython",
    "version": 3
   },
   "file_extension": ".py",
   "mimetype": "text/x-python",
   "name": "python",
   "nbconvert_exporter": "python",
   "pygments_lexer": "ipython3",
   "version": "3.7.0"
  }
 },
 "nbformat": 4,
 "nbformat_minor": 2
}
