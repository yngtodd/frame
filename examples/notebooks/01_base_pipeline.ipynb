{
 "cells": [
  {
   "cell_type": "markdown",
   "metadata": {},
   "source": [
    "# Baseline HuggingFace Pipeline\n",
    "\n",
    "As an initial baseline, we should see how well the text summarization Seq2Seq models in HuggingFace are capable of. Let's load sentences from Framenet and use a pre-trained `t5` model for summarization. We will then compare the model's summarization with the frame definitions associated with that sentence. "
   ]
  },
  {
   "cell_type": "code",
   "execution_count": 1,
   "metadata": {},
   "outputs": [],
   "source": [
    "import json\n",
    "import nltk\n",
    "\n",
    "from transformers import pipeline\n",
    "from nltk.corpus.reader import framenet"
   ]
  },
  {
   "cell_type": "code",
   "execution_count": 2,
   "metadata": {},
   "outputs": [
    {
     "name": "stdout",
     "output_type": "stream",
     "text": [
      "data  frame_seq2seq.py\tnotebooks  README.md  results\r\n"
     ]
    }
   ],
   "source": [
    "!ls ../"
   ]
  },
  {
   "cell_type": "code",
   "execution_count": 3,
   "metadata": {},
   "outputs": [],
   "source": [
    "def load_fundraising_example():\n",
    "    with open(\"../data/a_guide_to_seed_fundraising.json\", \"r\") as f:\n",
    "        sample = json.load(f)\n",
    "    \n",
    "    return sample"
   ]
  },
  {
   "cell_type": "code",
   "execution_count": 4,
   "metadata": {},
   "outputs": [],
   "source": [
    "datapath = \"/home/ygx/dat/fndata-1.7/\""
   ]
  },
  {
   "cell_type": "code",
   "execution_count": 5,
   "metadata": {},
   "outputs": [],
   "source": [
    "fn = framenet.FramenetCorpusReader(datapath, fileids=None)"
   ]
  },
  {
   "cell_type": "markdown",
   "metadata": {},
   "source": [
    "### Framenet Sentences\n",
    "\n",
    "Framenet contains sentences along with their associated frames. These sentence lengths would be on the order of the length of search queuries a user would make on a natural language search engine. We can use this to compare our summarization models. "
   ]
  },
  {
   "cell_type": "code",
   "execution_count": 6,
   "metadata": {},
   "outputs": [],
   "source": [
    "sentences = fn.sents()"
   ]
  },
  {
   "cell_type": "code",
   "execution_count": 7,
   "metadata": {},
   "outputs": [
    {
     "name": "stdout",
     "output_type": "stream",
     "text": [
      "\n",
      "Sentence 0:\n",
      "\n",
      "\tThe bank has abandoned all plans to finance roads or logging in Cameroon 's forests , in keeping with its ` stringent policy to protect the rights of indigenous people . \"\n",
      "\n",
      "Frame:\n",
      "\n",
      "\tAbandonment\n",
      "\n",
      "Frame definition:\n",
      "\n",
      "\tAn Agent leaves behind a Theme effectively rendering it no longer within their control or of the normal security as one's property.   'Carolyn abandoned her car and jumped on a red double decker bus.'  'Perhaps he left the key in the ignition'  'Abandonment of a child is considered to be a serious crime in many jurisdictions.'  There are also metaphorically used examples:  'She left her old ways behind .'\n"
     ]
    }
   ],
   "source": [
    "# Sample sentence and associated frame\n",
    "for idx, sent in enumerate(sentences):\n",
    "    print(f\"\\nSentence {idx}:\\n\\n\\t{sent.text}\")\n",
    "    print(f\"\\nFrame:\\n\\n\\t{sent.frame.name}\")\n",
    "    print(f\"\\nFrame definition:\\n\\n\\t{sent.frame.definition}\")\n",
    "    if idx == 0:\n",
    "        break"
   ]
  },
  {
   "cell_type": "code",
   "execution_count": 8,
   "metadata": {},
   "outputs": [],
   "source": [
    "# Simplest and most opaque interface for summarization\n",
    "summarizer = pipeline(\"summarization\", model=\"t5-base\", tokenizer=\"t5-base\")"
   ]
  },
  {
   "cell_type": "code",
   "execution_count": 9,
   "metadata": {},
   "outputs": [],
   "source": [
    "sample_sentences = [sentences[idx].text for idx in range(10)]\n",
    "sample_frames = [sentences[idx].frame.name for idx in range(10)]"
   ]
  },
  {
   "cell_type": "code",
   "execution_count": 10,
   "metadata": {},
   "outputs": [],
   "source": [
    "sample_summaries = []\n",
    "for sample in sample_sentences:\n",
    "    summary = summarizer(sample, min_length=5, max_length=20)\n",
    "    sample_summaries.append(summary)"
   ]
  },
  {
   "cell_type": "code",
   "execution_count": 11,
   "metadata": {},
   "outputs": [
    {
     "data": {
      "text/plain": [
       "[[{'summary_text': \"bank has abandoned all plans to finance roads or logging in Cameroon's forests\"}],\n",
       " [{'summary_text': 'Stevenson and a friend took a Nova car from North Skelton and abandoned it'}],\n",
       " [{'summary_text': 'she had seen no reason to abandon it when she came to Medewich two years ago'}],\n",
       " [{'summary_text': 'as a result of other priorities following the fall of France in June 1940 , the project'}],\n",
       " [{'summary_text': 'Leeds Education Authority has abandoned plans for  drastic \" cuts in travel subsidies for some Catholic students'}],\n",
       " [{'summary_text': 'he abandoned plans of working in missionary field and offered his services to the Netherlands Indies'}],\n",
       " [{'summary_text': 'the council later abandoned its plans to widen the highway . the reversion passed to'}],\n",
       " [{'summary_text': 'Um Al-Farajh was finally abandoned by the Palestinian Arabs in 1948 .'}],\n",
       " [{'summary_text': 'Lola is waiting loyally , if not faithfully, for the lover ,'}],\n",
       " [{'summary_text': 'pistol found in a garden at ava parade , off Ormeau Road '}]]"
      ]
     },
     "execution_count": 11,
     "metadata": {},
     "output_type": "execute_result"
    }
   ],
   "source": [
    "sample_summaries"
   ]
  },
  {
   "cell_type": "code",
   "execution_count": 12,
   "metadata": {},
   "outputs": [
    {
     "data": {
      "text/plain": [
       "['Abandonment',\n",
       " 'Abandonment',\n",
       " 'Abandonment',\n",
       " 'Abandonment',\n",
       " 'Abandonment',\n",
       " 'Abandonment',\n",
       " 'Abandonment',\n",
       " 'Abandonment',\n",
       " 'Abandonment',\n",
       " 'Abandonment']"
      ]
     },
     "execution_count": 12,
     "metadata": {},
     "output_type": "execute_result"
    }
   ],
   "source": [
    "sample_frames"
   ]
  },
  {
   "cell_type": "markdown",
   "metadata": {},
   "source": [
    "### Fundraising Example\n",
    "\n",
    "Using the same `t5` model, we can test the summary on the fundraiser sample data."
   ]
  },
  {
   "cell_type": "code",
   "execution_count": 13,
   "metadata": {},
   "outputs": [],
   "source": [
    "sample = load_fundraising_example()"
   ]
  },
  {
   "cell_type": "code",
   "execution_count": 14,
   "metadata": {},
   "outputs": [
    {
     "name": "stderr",
     "output_type": "stream",
     "text": [
      "Token indices sequence length is longer than the specified maximum sequence length for this model (6719 > 512). Running this sequence through the model will result in indexing errors\n"
     ]
    }
   ],
   "source": [
    "summary = summarizer(sample[\"text\"], min_length=5, max_length=20)"
   ]
  },
  {
   "cell_type": "code",
   "execution_count": 15,
   "metadata": {},
   "outputs": [
    {
     "data": {
      "text/plain": [
       "[{'summary_text': 'if you can raise as much money as you need, you should get the investor’s'}]"
      ]
     },
     "execution_count": 15,
     "metadata": {},
     "output_type": "execute_result"
    }
   ],
   "source": [
    "summary"
   ]
  },
  {
   "cell_type": "code",
   "execution_count": 16,
   "metadata": {},
   "outputs": [
    {
     "data": {
      "text/plain": [
       "\"Why Raise Money - When to Raise Money - How Much to Raise? - Financing Options - Convertible Debt - Safe - Equity - Valuation - Investors\\nIntroduction\\nStartup companies need to purchase equipment, rent offices, and hire staff. More importantly, they need to grow. In almost every case they will require outside capital to do these things.\\nThe initial capital raised by a company is typically called “seed” capital. This brief guide is a summary of what startup founders need to know about raising the seed funds critical to getting their company off the ground.\\nThis is not intended to be a complete guide to fundraising. It includes only the basic knowledge most founders will need. The information comes from my experiences working at startups, investing in startups, and advising startups at Y Combinator and Imagine K12. YC partners naturally gain a lot of fundraising experience and YC founder Paul Graham (PG) has written extensively on the topic 1, 2, 3, 4. His essays cover in more detail much of what is contained in this guide and are highly recommended reading.\\nWhy Raise Money?\\nWithout startup funding the vast majority of startups will die. The amount of money needed to take a startup to profitability is usually well beyond the ability of founders and their friends and family to finance. A startup here means a company that is built to grow fast 12. High growth companies almost always need to burn capital to sustain their growth prior to achieving profitability. A few startup companies do successfully bootstrap (self-fund) themselves, but they are the exception. Of course, there are lots of great companies that aren’t startups. Managing capital needs for such companies is not covered herein.\\nCash not only allows startups to live and grow, a war chest is also almost always a competitive advantage in all ways that matter: hiring key staff, public relations, marketing, and sales. Thus, most startups will almost certainly want to raise money. The good news is that there are lots of investors hoping to give the right startup money. The bad news is, “Fundraising is brutal” 1. The process of raising that money is often long, arduous, complex, and ego deflating. Nevertheless, it is a path almost all companies and founders must walk, but when is the time right to raise?\\nWhen to Raise Money\\nInvestors write checks when the idea they hear is compelling, when they are persuaded that the team of founders can realize its vision, and that the opportunity described is real and sufficiently large. When founders are ready to tell this story, they can raise money. And usually when you can raise money, you should.\\nFor some founders it is enough to have a story and a reputation. However, for most it will require an idea, a product, and some amount of customer adoption, a.k.a. traction. Luckily, the software development ecosystem today is such that a sophisticated web or mobile product can be built and delivered in a remarkably short period of time at very low cost. Even hardware can be rapidly prototyped and tested.\\nBut investors also need persuading. Usually a product they can see, use, or touch will not be enough. They will want to know that there is product market fit and that the product is experiencing actual growth.\\nTherefore, founders should raise money when they have figured out what the market opportunity is and who the customer is, and when they have delivered a product that matches their needs and is being adopted at an interestingly rapid rate. How rapid is interesting? This depends, but a rate of 10% per week for several weeks is impressive. And to raise money founders need to impress. For founders who can convince investors without these things, congratulations. For everyone else, work on your product and talk to your users.\\nHow Much to Raise?\\nIdeally, you should raise as much money as you need to reach profitability, so that you’ll never have to raise money again. If you succeed in this, not only will you find it easier to raise money in the future, you’ll be able to survive without new funding if the funding environment gets tight. That said, certain kinds of startups will need a follow-on round, such as those building hardware. Their goal should be to raise as much money as needed to get to their next “fundable” milestone, which will usually be 12 to 18 months later.\\nIn choosing how much to raise you are trading off several variables, including how much progress that amount of money will purchase, credibility with investors, and dilution. If you can manage to give up as little as 10% of your company in your seed round, that is wonderful, but most rounds will require up to 20% dilution and you should try to avoid more than 25%. In any event, the amount you are asking for must be tied to a believable plan. That plan will buy you the credibility necessary to persuade investors that their money will have a chance to grow. It is usually a good idea to create multiple plans assuming different amounts raised and to carefully articulate your belief that the company will be successful whether you raise the full or some lesser amount. The difference will be how fast you can grow.\\nOne way to look at the optimal amount to raise in your first round is to decide how many months of operation you want to fund. A rule of thumb is that an engineer (the most common early employee for Silicon Valley startups) costs all-in about $15k per month. So, if you would like to be funded for 18 months of operations with an average of five engineers, then you will need about 15k x 5 x 18 = $1.35mm. What if you are planning to hire for other positions as well? Don’t worry about it! This is just an estimate and will be accurate enough for whatever mix you hire. And here you have a great answer to the question: “How much are you raising?” Simply answer that you are raising for N months (usually 12-18) and will thus need $X, where X will usually be between $500k and $1.5 million. As noted above, you should give multiple versions of N and a range for X, giving different possible growth scenarios based on how much you successfully raise.\\nThere is enormous variation in the amount of money raised by companies. Here we are concerned with early raises, which usually range from a few hundreds of thousands of dollars up to two million dollars. Most first rounds seem to cluster around six hundred thousand dollars, but largely thanks to increased interest from investors in seed, these rounds have been increasing in size over the last several years.\\nFinancing Options\\nStartup founders must understand the basic concepts behind venture financing. It would be nice if this was all very simple and could be explained in a single paragraph. Unfortunately, as with most legal matters, that’s not possible. Here is a very high level summary, but it is worth your time to read more about the details and pros and cons of various types of financing and, importantly, the key terms of such deals that you need to be aware of, from preferences to option pools. The articles below are a decent start.\\nMark Suster on Convertible Debt\\nAnnouncing the Safe\\nVenture financing usually takes place in “rounds,” which have traditionally had names and a specific order. First comes a seed round, then a Series A, then a Series B, then a Series C, and so on to acquisition or IPO. None of these rounds are required and, for example, sometimes companies will start with a Series A financing (almost always an “equity round” as defined below). Recall that we are focusing here exclusively on seed, that very first venture round.\\nMost seed rounds, at least in Silicon Valley, are now structured as either convertible debt or simple agreements for future equity (safes) 17. Some early rounds are still done with equity, but in Silicon Valley they are now the exception.\\nConvertible Debt\\nConvertible debt is a loan an investor makes to a company using an instrument called a convertible note. That loan will have a principal amount (the amount of the investment), an interest rate (usually a minimum rate of 2% or so), and a maturity date (when the principal and interest must be repaid). The intention of this note is that it converts to equity (thus, “convertible”) when the company does an equity financing. These notes will also usually have a “Cap” or “Target Valuation” and / or a discount. A Cap is the maximum effective valuation that the owner of the note will pay, regardless of the valuation of the round in which the note converts. The effect of the cap is that convertible note investors usually pay a lower price per share compared to other investors in the equity round. Similarly, a discount defines a lower effective valuation via a percentage off the round valuation. Investors see these as their seed “premium” and both of these terms are negotiable. Convertible debt may be called at maturity, at which time it must be repaid with earned interest, although investors are often willing to extend the maturity dates on notes.\\nSafe\\nConvertible debt has been almost completely replaced by the safe at YC and Imagine K12. A safe acts like convertible debt without the interest rate, maturity, and repayment requirement. The negotiable terms of a safe will almost always be simply the amount, the cap, and the discount, if any. There is a bit more complexity to any convertible security, and much of that is driven by what happens when conversion occurs. I strongly encourage you to read the safe primer 18, which is available on YC’s site. The primer has several examples of what happens when a safe converts, which go a long way toward explaining how both convertible debt and safes work in practice.\\nEquity\\nAn equity round means setting a valuation for your company (generally, the cap on the safes or notes is considered as a company’s notional valuation, although notes and safes can also be uncapped) and thus a per-share price, and then issuing and selling new shares of the company to investors. This is always more complicated, expensive, and time consuming than a safe or convertible note and explains their popularity for early rounds. It is also why you will always want to hire a lawyer when planning to issue equity.\\nTo understand what happens when new equity is issued, a simple example helps. Say you raise $1,000,000 on a $5,000,000 pre-money valuation. If you also have 10,000,000 shares outstanding then you are selling the shares at:\\n$5,000,000 / 10,000,000 = 50 cents per share\\nand you will thus sell...\\n2,000,000 shares\\nresulting in a new share total of...\\n10,000,000 + 2,000,000 = 12,000,000 shares\\nand a post-money valuation of...\\n$0.50 * 12,000,000 = $6,000,000\\nand dilution of...\\n2,000,000 / 12,000,000 = 16.7%\\nNot 20%!\\nThere are several important components of an equity round with which you must become familiar when your company does a priced round, including equity incentive plans (option pools), liquidation preferences, anti-dilution rights, protective provisions, and more. These components are all negotiable, but it is usually the case that if you have agreed upon a valuation with your investors (next section), then you are not too far apart, and there is a deal to be done. I won’t say more about equity rounds, since they are so uncommon for seed rounds.\\nOne final note: whatever form of financing you do, it is always best to use well-known financing documents like YC's safe. These documents are well understood by the investor community, and have been drafted to be fair, yet founder friendly.\\nValuation: What is my company worth?\\nYou are two hackers with an idea, a few months of hacking’s worth of software, and several thousand users. What is your company worth? It should be obvious that no formula will give you an answer. There can only be the most notional sort of justification for any value at all. So, how do you set a value when talking to a potential investor? Why do some companies seem to be worth $20mm and some $4mm? Because investors were convinced that was what they were (or will be in the near future) worth. It is that simple. Therefore, it is best to let the market set your price and to find an investor to set the price or cap. The more investor interest your company generates, the higher your value will trend.\\nStill, it can be difficult in some circumstances to find an investor to tell you what you are worth. In this case you can choose a valuation, usually by looking at comparable companies who have valuations. Please remember that the important thing in choosing your valuation is not to over-optimize. The objective is to find a valuation with which you are comfortable, that will allow you to raise the amount you need to achieve your goals with acceptable dilution, and that investors will find reasonable and attractive enough to write you a check. Seed valuations tend to range from $2mm-$10mm, but keep in mind that the goal is not to achieve the best valuation, nor does a high valuation increase your likelihood of success.\\nInvestors: Angels & Venture Capitalists\\nThe difference between an angel and a VC is that angels are amateurs and VCs are pros. VCs invest other people’s money and angels invest their own on their own terms. Although some angels are quite rigorous and act very much like the pros, for the most part they are much more like hobbyists. Their decision making process is usually much faster--they can make the call all on their own--and there is almost always a much larger component of emotion that goes into that decision.\\nVCs will usually require more time, more meetings, and will have multiple partners involved in the final decision. And remember, VCs see LOTS of deals and invest in very few, so you will have to stand out from a crowd.\\nThe ecosystem for seed (early) financing is far more complex now than it was even five years ago. There are many new VC firms, sometimes called “super-angels,” or “micro-VC’s”, which explicitly target brand new, very early stage companies. There are also several traditional VCs that will invest in seed rounds. And there are a large number of independent angels who will invest anywhere from $25k to $100k or more in individual companies. New fundraising options have also arisen. For example, AngelList Syndicates lets angels pool their resources and follow a single lead angel. FundersClub invests selectively like a traditional VC, but lets angels become LPs in their VC funds to expand connections available to its founders.\\nHow does one meet and encourage the interest of investors? If you are about to present at a demo day, you are going to meet lots of investors. There are few such opportunities to meet a concentrated and motivated group of seed investors. Besides a demo day, by far the best way to meet a venture capitalist or an angel is via a warm introduction. Angels will also often introduce interesting companies to their own networks. Otherwise, find someone in your network to make an introduction to an angel or VC. If you have no other options, do research on VCs and angels and send as many as you can a brief, but compelling summary of your business and opportunity (see Documents You Need below).\\nCrowdfunding\\nThere are a growing number of new vehicles to raise money, such as AngelList, Kickstarter, and Wefunder. These crowdfunding sites can be used to launch a product, run a pre-sales campaign, or find venture funding. In exceptional cases, founders have used these sites as their dominant fundraising source, or as clear evidence of demand. They usually are used to fill in rounds that are largely complete or, at times, to reanimate a round that is having difficulty getting off the ground. The ecosystem around investing is changing rapidly, but when and how to use these new sources of funds will usually be determined by your success raising through more traditional means.\\nMeeting Investors\\nIf you are meeting investors at an investor day, remember that your goal is not to close--it is to get the next meeting. Investors will seldom choose to commit the first day they hear your pitch, regardless of how brilliant it is. So book lots of meetings. Keep in mind that the hardest part is to get the first money in the company. In other words, meet as many investors as possible but focus on those most likely to close. Always optimize for getting money soonest (in other words, be greedy) 2.\\nThere are a few simple rules to follow when preparing to meet with investors. First, make sure you know your audience--do research on what they like to invest in and try to figure out why. Second, simplify your pitch to the essential--why this is a great product (demos are almost a requirement nowadays), why you are precisely the right team to build it, and why together you should all dream about creating the next gigantic company. Next make sure you listen carefully to what the investor has to say. If you can get the investor to talk more than you, your probability of a deal skyrockets. In the same vein, do what you can to connect with the investor. This is one of the main reasons to do research. An investment in a company is a long term commitment and most investors see lots of deals. Unless they like you and feel connected to your outcome, they will most certainly not write a check.\\nWho you are and how well you tell your story are most important when trying to convince investors to write that check. Investors are looking for compelling founders who have a believable dream and as much evidence as possible documenting the reality of that dream. Find a style that works for you, and then work as hard as necessary to get the pitch perfect. Pitching is difficult and often unnatural for founders, especially technical founders who are more comfortable in front of a screen than a crowd. But anyone will improve with practice, and there is no substitute for an extraordinary amount of practice. Incidentally, this is true whether you are preparing for a demo day or an investor meeting.\\nDuring your meeting, try to strike a balance between confidence and humility. Never cross over into arrogance, avoid defensiveness, but also don’t be a pushover. Be open to intelligent counterpoints, but stand up for what you believe and whether or not you persuade the investor just then, you’ll have made a good impression and will probably get another shot.\\nLastly, make sure you don’t leave an investor meeting without an attempted close or at very minimum absolute clarity on next steps. Do not just walk out leaving things ambiguous.\\nNegotiating and Closing the Deal\\nA seed investment can usually be closed rapidly. As noted above, it is an advantage to use standard documents with consistent terms, such as YC’s safe. Negotiation, and often there is none at all, can then proceed on one or two variables, such as the valuation/cap and possibly a discount.\\nDeals have momentum and there is no recipe towards building momentum behind your deal other than by telling a great story, persistence, and legwork. You may have to meet with dozens of investors before you get that close. But to get started you just need to convince 5 one of them. Once the first money is in, each subsequent close will get faster and easier 6.\\nOnce an investor says that they are in, you are almost done. This is where you should rapidly close using a handshake protocol 19. If you fail at negotiating from this point on, it is probably your fault.\\nNegotiations\\nWhen you enter into a negotiation with a VC or an angel, remember that they are usually more experienced at it than you are, so it is almost always better not to try to negotiate in real-time. Take requests away with you, and get help from YC or Imagine K12 partners, advisors, or legal counsel. But also remember that although certain requested terms can be egregious, the majority of things credible VCs and angels will ask for tend to be reasonable. Do not hesitate to ask them to explain precisely what they are asking for and why. If the negotiation is around valuation (or cap) there are, naturally, plenty of considerations, e.g. other deals you have already closed. However, it is important to remember that the valuation you choose at this early round will seldom matter to the success or failure of the company. Get the best deal you can get--but get the deal! Finally, once you get to yes, don’t wait around. Get the investor’s signature and cash as soon as possible. One reason safes are popular is because the closing mechanics are as simple as signing a document and then transferring funds. Once an investor has decided to invest, it should take no longer than a few minutes to exchange signed documents online (for example via Clerky or Ironclad) and execute a wire or send a check.\\nDocuments You Need\\nDo not spend too much time developing diligence documents for a seed round. If an investor is asking for too much due diligence or financials, they are almost certainly someone to avoid. You will probably want an executive summary and a slide deck you can walk investors through and, potentially, leave behind so VCs can show to other partners.\\nThe executive summary should be one or two pages (one is better) and should include vision, product, team (location, contact info), traction, market size, and minimum financials (revenue, if any, and fundraising prior and current).\\nGenerally make sure the slide deck is a coherent leave-behind. Graphics, charts, screenshots are more powerful than lots of words. Consider it a framework around which you will hang a more detailed version of your story. There is no fixed format or order, but the following parts are usually present. Create the pitch that matches you, how you present, and how you want to represent your company. Also note that like the executive summary, there are lots of similar templates online if you don’t like this one.\\n1. Your company / Logo / Tag Line\\n2. Your Vision - Your most expansive take on why your new company exists.\\n3. The Problem - What are you solving for the customer--where is their pain?\\n4. The Customer - Who are they and perhaps how will you reach them?\\n5. The Solution - What you have created and why now is the right time.\\n6. The (huge) Market you are addressing - Total Available Market (TAM) >$1B if possible. Include the most persuasive evidence you have that this is real.\\n7. Market Landscape - including competition, macro trends, etc. Is there any insight you have that others do not?\\n8. Current Traction - list key stats / plans for scaling and future customer acquisition.\\n9. Business model - how users translate to revenue. Actuals, plans, hopes.\\n10. Team - who you are, where you come from and why you have what it takes to succeed. Pics and bios okay. Specify roles.\\n11. Summary - 3-5 key takeaways (market size, key product insight, traction)\\n12. Fundraising - Include what you have already raised and what you are planning to raise now. Any financial projections may go here as well. You can optionally include a summary product roadmap (6 quarters max) indicating what an investment buys.\\nNext\\nIt is worth pointing out that startup investing is rapidly evolving and it is likely that certain elements of this guide will at some point become obsolete, so make sure to check for updates or future posts. There is now an extraordinary amount of information available on raising venture money. Several sources are referenced and more are listed at the end of this document.\\nFundraising is a necessary, and sometimes painful task most startups must periodically endure. A founder’s goal should always be to raise as quickly as possible and this guide will hopefully help founders successfully raise their first round of venture financing. Often that will seem like a nearly impossible task and when it is complete, it will feel as though you have climbed a very steep mountain. But you have been distracted by the brutality of fundraising and once you turn your attention back to the future you will realize it was only a small foothill on the real climb in front of you. It is time to get back to work building your company.\\nMany thanks to those whose knowledge or work have contributed to this document. Of course, any errors are all mine. Please send any comments or questions to geoff@yahoo.com.\\nAppendix\\nFundraising Rules to Follow\\nGet fundraising over as soon as possible, and get back to building your product and company, but also…\\nDon’t stop raising money too soon. If fundraising is difficult, keep fighting and stay alive.\\nWhen raising, be “greedy”: breadth-first search weighted by expected value 2. This means talk to as many people as you can, prioritizing the ones that are likely to close.\\nOnce someone says yes, don’t delay. Get docs signed and the money in the bank as soon as possible.\\nAlways hustle for leads. If you are the hottest deal of the hour, that’s great, but everyone else needs to work like crazy to get angels and other venture investors interested.\\nNever screw anyone over. Hold yourself and others on your team to the highest ethical standards. The Valley is a very small place, and a bad reputation is difficult to repair. Play it straight and you will never regret it. You’ll feel better for it, too.\\nInvestors have a lot of different ways to say no. The hardest thing for an entrepreneur is understanding when they are being turned down and being okay with it. PG likes to say, “If the soda is empty, stop making that awful sucking sound with the straw.” But remember that they might be a “yes” another time, so part on the best possible terms.\\nDevelop a style that fits you and your company.\\nStay organized. Co-founders should split tasks where possible. If necessary, use software like Asana to keep track of deals.\\nHave a thick skin but strike the right balance between confidence and humility. And never be arrogant.\\nWhat Not to Do While Communicating with Investors\\nDON'T:\\nBe dishonest in any way\\nBe arrogant or unfriendly\\nBe overly aggressive\\nSeem indecisive - although it is okay to say you don’t know yet.\\nTalk so much they cannot get a word in edgewise\\nBe slow to follow-up or close a deal\\nBreak an agreement, verbal or written\\nCreate detailed financials\\nUse ridiculous / silly market size numbers without clear justification\\nClaim you know something that you don’t or be afraid to say you don’t know\\nSpend time on the obvious\\nGet caught up in unimportant minutiae - don’t let the meeting get away from you\\nAsk for an NDA\\nTry to play investors off each other when you are not a fundraising ninja\\nTry to negotiate in real-time\\nOver-optimize your valuation or worry too much about dilution\\nTake a “No” personally\\nA Brief Glossary of Key Terms\\nThe term you are looking for is not here? Disagree with the definition? Go to Investopedia for a more authoritative source.\\nAngel Investor - A (usually) wealthy private investor in startup companies.\\nCap / Target Valuation - The maximum effective valuation for an investor in a convertible note.\\nConvertible Note - This is a debt instrument that will convert into stock; usually preferred stock but sometimes common stock.\\nCommon Stock - Capital stock typically issued to founders and employees, having the fewest, or no, rights, privileges and preferences.\\nDilution - The percentage an ownership share is decreased via the issuance of new shares.\\nDiscount - A percentage discount from the pre-money valuation to give safe or note holders an effectively lower price.\\nEquity Round - A financing round in which the investor purchases equity (stock) in the company.\\nFully Diluted Shares - The total number of issued and outstanding shares of capital stock in the company, including outstanding warrants, option grants and other convertible securities.\\nIPO - Initial Public Offering - the first sale of stock by a private company to the public.\\nLead Investor - Usually the first and largest investor in a round who brings others into the round.\\nLiquidation Preference - A legal provision in a company’s charter that allows stockholders with preferred stock to get their money out of a company before the holders of common stock in the event of an exit.\\nMaturity Date - The date at which a promissory note becomes due (or at which it will automatically convert to stock in the case of a convertible note)\\nEquity Incentive Plan / Option Pool - The shares allocated and set aside for grants to employees and consultants.\\nPreferred Stock - Capital stock issued in a company that have specific rights, privileges and preferences compared to the common stock. Convertible into common stock, either automatically (e.g., in an IPO) or at the option of the preferred stockholder (e.g., an acquisition).\\nPre-money Valuation - The value of a company prior to when investor money is added.\\nPro-rata rights (aka pre-emptive rights) - Contractual rights that allow the holder to maintain their percentage ownership in subsequent financing rounds.\\nProtective Provisions - Provisions in a company’s charter that give exclusive voting rights to holders of preferred stock. For example, the approval of these stockholders, voting separately from other stockholders, may be required for an acquisition.\\nSafe - Simple Agreement for Future Equity - Y Combinator’s replacement for convertible debt.\\nTAM - Total Available Market. In pitches, this is the estimated total revenue available for the product(s) you are selling.\\nVenture Capitalist - A professional investor in companies, investing limited partners’ funds.\\nSources\\nA Fundraising Survival Guide, Paul Graham\\nTechniques for surviving and succeeding at fundraising\\nThe Equity Equation, Paul Graham\\nHow to decide if you should accept an offer from an investor\\nHow to Convince Investors, Paul Graham\\nHow to convince investors to invest in you\\nInvestor Herd Dynamics, Paul Graham\\nHow investors think about investing in early stage companies\\n“Venture Deals”, Feld and Mendelson\\nEssential elements of a venture deal (book)\\nRaising Money for a Startup, Sal Khan\\nStartup Fundraising from Sal Khan\\nHow Much Money To Raise, Fred Wilson\\nAdvice on how much money to raise.\\nAnnouncing the Safe, Paul Graham\\nThe simple agreement for future equity. A replacement for convertible notes.\\nThe Safe Primer, Carolynn Levy\\nLots of detailed information on the safe and examples as to how it works in various cases.\\nThe Handshake Deal Protocol, Paul Graham\\nA standard protocol to help ensure that verbal commitments turn into transactions.\""
      ]
     },
     "execution_count": 16,
     "metadata": {},
     "output_type": "execute_result"
    }
   ],
   "source": [
    "sample[\"text\"]"
   ]
  },
  {
   "cell_type": "code",
   "execution_count": null,
   "metadata": {},
   "outputs": [],
   "source": []
  }
 ],
 "metadata": {
  "kernelspec": {
   "display_name": "Python 3",
   "language": "python",
   "name": "python3"
  },
  "language_info": {
   "codemirror_mode": {
    "name": "ipython",
    "version": 3
   },
   "file_extension": ".py",
   "mimetype": "text/x-python",
   "name": "python",
   "nbconvert_exporter": "python",
   "pygments_lexer": "ipython3",
   "version": "3.7.0"
  }
 },
 "nbformat": 4,
 "nbformat_minor": 2
}
