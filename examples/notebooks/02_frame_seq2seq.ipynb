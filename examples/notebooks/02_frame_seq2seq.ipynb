{
 "cells": [
  {
   "cell_type": "code",
   "execution_count": 9,
   "metadata": {},
   "outputs": [],
   "source": [
    "import pprint\n",
    "\n",
    "from torch.utils.data import DataLoader\n",
    "from frame.datasets.frame_seq import FrameSeq2Seq"
   ]
  },
  {
   "cell_type": "code",
   "execution_count": 16,
   "metadata": {},
   "outputs": [],
   "source": [
    "pp = pprint.PrettyPrinter()"
   ]
  },
  {
   "cell_type": "code",
   "execution_count": 17,
   "metadata": {},
   "outputs": [],
   "source": [
    "datapath = \"/Users/ygx/dat/fndata-1.7\""
   ]
  },
  {
   "cell_type": "code",
   "execution_count": 18,
   "metadata": {},
   "outputs": [],
   "source": [
    "data = FrameSeq2Seq(datapath)"
   ]
  },
  {
   "cell_type": "code",
   "execution_count": 19,
   "metadata": {},
   "outputs": [],
   "source": [
    "loader = DataLoader(data, batch_size=1)"
   ]
  },
  {
   "cell_type": "code",
   "execution_count": 20,
   "metadata": {},
   "outputs": [
    {
     "name": "stdout",
     "output_type": "stream",
     "text": [
      "{'frame': ['Abandonment'],\n",
      " 'frame_definition': ['An Agent leaves behind a Theme effectively rendering it '\n",
      "                      'no longer within their control or of the normal '\n",
      "                      \"security as one's property.   'Carolyn abandoned her \"\n",
      "                      \"car and jumped on a red double decker bus.'  'Perhaps \"\n",
      "                      \"he left the key in the ignition'  'Abandonment of a \"\n",
      "                      'child is considered to be a serious crime in many '\n",
      "                      \"jurisdictions.'  There are also metaphorically used \"\n",
      "                      \"examples:  'She left her old ways behind .'\"],\n",
      " 'sentence': ['The bank has abandoned all plans to finance roads or logging in '\n",
      "              \"Cameroon 's forests , in keeping with its ` stringent policy to \"\n",
      "              'protect the rights of indigenous people . \"']}\n"
     ]
    }
   ],
   "source": [
    "for idx, sent in enumerate(loader):\n",
    "    pp.pprint(sent)\n",
    "    if idx == 0:\n",
    "        break"
   ]
  },
  {
   "cell_type": "code",
   "execution_count": null,
   "metadata": {},
   "outputs": [],
   "source": [
    "type(sent['sentence'])"
   ]
  },
  {
   "cell_type": "code",
   "execution_count": null,
   "metadata": {},
   "outputs": [],
   "source": [
    "sent['sentence']"
   ]
  },
  {
   "cell_type": "code",
   "execution_count": null,
   "metadata": {},
   "outputs": [],
   "source": [
    "data"
   ]
  }
 ],
 "metadata": {
  "kernelspec": {
   "display_name": "Python 3",
   "language": "python",
   "name": "python3"
  },
  "language_info": {
   "codemirror_mode": {
    "name": "ipython",
    "version": 3
   },
   "file_extension": ".py",
   "mimetype": "text/x-python",
   "name": "python",
   "nbconvert_exporter": "python",
   "pygments_lexer": "ipython3",
   "version": "3.7.0"
  }
 },
 "nbformat": 4,
 "nbformat_minor": 2
}
