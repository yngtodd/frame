{
 "cells": [
  {
   "cell_type": "code",
   "execution_count": 14,
   "metadata": {},
   "outputs": [],
   "source": [
    "import random\n",
    "import datasets\n",
    "import pandas as pd\n",
    "\n",
    "from pathlib import Path\n",
    "from datasets import load_dataset\n",
    "from IPython.display import display, HTML"
   ]
  },
  {
   "cell_type": "code",
   "execution_count": 2,
   "metadata": {},
   "outputs": [],
   "source": [
    "# root path of json data preprocessed by `frame`\n",
    "datapath = \"/Users/ygx/dat/frames/\""
   ]
  },
  {
   "cell_type": "code",
   "execution_count": 3,
   "metadata": {},
   "outputs": [],
   "source": [
    "def preprocessed_paths(root):\n",
    "    \"\"\"Get the paths for the processed data\n",
    "    \n",
    "    Note:\n",
    "        This first requires that you use `frame`'s cli\n",
    "        to preprocess the framenet data into json files.\n",
    "        \n",
    "    Args:\n",
    "        root: root path to the json preprocessed data\n",
    "    \"\"\"\n",
    "    path = Path(root).glob(\"**/*\")\n",
    "    return [str(p) for p in path]"
   ]
  },
  {
   "cell_type": "code",
   "execution_count": 18,
   "metadata": {},
   "outputs": [],
   "source": [
    "def show_random_examples(dataset, num_examples=5):\n",
    "    \"\"\"Display `num_examples` of the `dataset`\n",
    "    \n",
    "    Args:\n",
    "        dataset: HuggingFace DatasetDict from preprocessed framenet\n",
    "        num_examples: number of random examples to display\n",
    "    \"\"\"\n",
    "    samples = []\n",
    "    for _ in range(num_examples):\n",
    "        example = random.randint(0, len(dataset)-1)\n",
    "        samples.append(example)\n",
    "    \n",
    "    df = pd.DataFrame(dataset[samples])\n",
    "    display(HTML(df.to_html()))"
   ]
  },
  {
   "cell_type": "code",
   "execution_count": 4,
   "metadata": {},
   "outputs": [],
   "source": [
    "paths = preprocessed_paths(datapath)"
   ]
  },
  {
   "cell_type": "code",
   "execution_count": 5,
   "metadata": {},
   "outputs": [
    {
     "name": "stderr",
     "output_type": "stream",
     "text": [
      "Using custom data configuration default-759eabcb88cab5b7\n",
      "Reusing dataset json (/Users/ygx/.cache/huggingface/datasets/json/default-759eabcb88cab5b7/0.0.0/83d5b3a2f62630efc6b5315f00f20209b4ad91a00ac586597caee3a4da0bef02)\n"
     ]
    }
   ],
   "source": [
    "# picking the right file format is half the battle\n",
    "dataset = load_dataset('json', data_files=paths)"
   ]
  },
  {
   "cell_type": "code",
   "execution_count": 6,
   "metadata": {},
   "outputs": [
    {
     "data": {
      "text/plain": [
       "DatasetDict({\n",
       "    train: Dataset({\n",
       "        features: ['frame', 'sentence', 'frame_definition'],\n",
       "        num_rows: 100000\n",
       "    })\n",
       "})"
      ]
     },
     "execution_count": 6,
     "metadata": {},
     "output_type": "execute_result"
    }
   ],
   "source": [
    "dataset"
   ]
  },
  {
   "cell_type": "code",
   "execution_count": 7,
   "metadata": {},
   "outputs": [
    {
     "data": {
      "text/plain": [
       "{'train': pyarrow.Table\n",
       " frame: string\n",
       " sentence: string\n",
       " frame_definition: string}"
      ]
     },
     "execution_count": 7,
     "metadata": {},
     "output_type": "execute_result"
    }
   ],
   "source": [
    "dataset.data"
   ]
  },
  {
   "cell_type": "code",
   "execution_count": 19,
   "metadata": {},
   "outputs": [
    {
     "data": {
      "text/html": [
       "<table border=\"1\" class=\"dataframe\">\n",
       "  <thead>\n",
       "    <tr style=\"text-align: right;\">\n",
       "      <th></th>\n",
       "      <th>frame</th>\n",
       "      <th>sentence</th>\n",
       "      <th>frame_definition</th>\n",
       "    </tr>\n",
       "  </thead>\n",
       "  <tbody>\n",
       "    <tr>\n",
       "      <th>0</th>\n",
       "      <td>Departing</td>\n",
       "      <td>After leaving port , tankers and other vessels...</td>\n",
       "      <td>An object (the Theme) moves away from a Source...</td>\n",
       "    </tr>\n",
       "    <tr>\n",
       "      <th>1</th>\n",
       "      <td>Communication_noise</td>\n",
       "      <td>` Well , \" barked de Raimes , turning on the m...</td>\n",
       "      <td>This frame contains words for types of noise w...</td>\n",
       "    </tr>\n",
       "    <tr>\n",
       "      <th>2</th>\n",
       "      <td>Awareness</td>\n",
       "      <td>Kerry now fears her original suspicions were c...</td>\n",
       "      <td>A Cognizer has a piece of Content in their mod...</td>\n",
       "    </tr>\n",
       "    <tr>\n",
       "      <th>3</th>\n",
       "      <td>Evaluative_comparison</td>\n",
       "      <td>As Athens rose in influence and power in the W...</td>\n",
       "      <td>This frame is about the static comparison of a...</td>\n",
       "    </tr>\n",
       "    <tr>\n",
       "      <th>4</th>\n",
       "      <td>Adjacency</td>\n",
       "      <td>East of the towns of Biggleswade and Sandy , b...</td>\n",
       "      <td>A Figure is located adjacent to a Ground. This...</td>\n",
       "    </tr>\n",
       "  </tbody>\n",
       "</table>"
      ],
      "text/plain": [
       "<IPython.core.display.HTML object>"
      ]
     },
     "metadata": {},
     "output_type": "display_data"
    }
   ],
   "source": [
    "show_random_examples(dataset[\"train\"])"
   ]
  },
  {
   "cell_type": "code",
   "execution_count": null,
   "metadata": {},
   "outputs": [],
   "source": []
  }
 ],
 "metadata": {
  "kernelspec": {
   "display_name": "Python 3",
   "language": "python",
   "name": "python3"
  },
  "language_info": {
   "codemirror_mode": {
    "name": "ipython",
    "version": 3
   },
   "file_extension": ".py",
   "mimetype": "text/x-python",
   "name": "python",
   "nbconvert_exporter": "python",
   "pygments_lexer": "ipython3",
   "version": "3.7.0"
  }
 },
 "nbformat": 4,
 "nbformat_minor": 2
}
